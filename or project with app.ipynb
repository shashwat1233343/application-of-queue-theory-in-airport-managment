{
 "cells": [
  {
   "cell_type": "code",
   "execution_count": 5,
   "id": "44c30b53",
   "metadata": {},
   "outputs": [
    {
     "name": "stdout",
     "output_type": "stream",
     "text": [
      " * Serving Flask app '__main__'\n",
      " * Debug mode: on\n"
     ]
    },
    {
     "name": "stderr",
     "output_type": "stream",
     "text": [
      "WARNING: This is a development server. Do not use it in a production deployment. Use a production WSGI server instead.\n",
      " * Running on http://127.0.0.1:5000\n",
      "Press CTRL+C to quit\n",
      "127.0.0.1 - - [09/Apr/2025 01:03:29] \"OPTIONS /simulate HTTP/1.1\" 200 -\n",
      "127.0.0.1 - - [09/Apr/2025 01:03:30] \"POST /simulate HTTP/1.1\" 200 -\n"
     ]
    }
   ],
   "source": [
    "from flask import Flask, request, jsonify\n",
    "from flask_cors import CORS\n",
    "import pandas as pd\n",
    "import simpy\n",
    "import numpy as np\n",
    "import random\n",
    "from datetime import datetime\n",
    "\n",
    "app = Flask(__name__)\n",
    "CORS(app)\n",
    "\n",
    "# Load dataset once\n",
    "df = pd.read_csv('C:\\\\Users\\\\shash\\\\Downloads\\\\airport.csv')\n",
    "df = df.dropna(subset=['Passenger_Count', 'ReportPeriod'])\n",
    "\n",
    "# Convert dates with error handling\n",
    "def safe_date_parse(x):\n",
    "    try:\n",
    "        return pd.to_datetime(x)\n",
    "    except:\n",
    "        return pd.NaT\n",
    "\n",
    "df['ReportPeriod'] = df['ReportPeriod'].apply(safe_date_parse)\n",
    "df = df.dropna(subset=['ReportPeriod'])\n",
    "\n",
    "@app.route('/simulate', methods=['POST'])\n",
    "def simulate():\n",
    "    try:\n",
    "        data = request.json\n",
    "        terminal = data.get('terminal', 'Terminal B')\n",
    "        num_counters = int(data.get('num_counters', 5))\n",
    "        sim_duration = int(data.get('sim_duration', 960))\n",
    "\n",
    "        # Filter Terminal\n",
    "        filtered_df = df[df['Terminal'] == terminal]\n",
    "        if filtered_df.empty:\n",
    "            fallback_terminal = df['Terminal'].mode()[0]\n",
    "            filtered_df = df[df['Terminal'] == fallback_terminal]\n",
    "\n",
    "        # Monthly aggregation with error handling\n",
    "        monthly_data = (filtered_df.groupby(pd.Grouper(key='ReportPeriod', freq='M'))\n",
    "                       ['Passenger_Count'].sum().reset_index())\n",
    "        monthly_data['Daily_Passengers'] = monthly_data['Passenger_Count'] / 30\n",
    "        monthly_data = monthly_data.dropna(subset=['Daily_Passengers'])\n",
    "        \n",
    "        if monthly_data.empty:\n",
    "            return jsonify({\"error\": \"No valid monthly data available\"}), 400\n",
    "\n",
    "        avg_daily_passengers = int(monthly_data['Daily_Passengers'].mean())\n",
    "\n",
    "        # Simulation setup\n",
    "        arrival_rate = avg_daily_passengers / (16 * 60)\n",
    "        service_time = 3\n",
    "        service_rate = 1 / service_time\n",
    "\n",
    "        env = simpy.Environment()\n",
    "        counters = [simpy.Resource(env, capacity=1) for _ in range(num_counters)]\n",
    "\n",
    "        # Tracking variables\n",
    "        queue_lengths = [[] for _ in range(num_counters)]\n",
    "        service_times = []\n",
    "        wait_times = []\n",
    "        counter_utilization = [0] * num_counters\n",
    "\n",
    "        def passenger(env, name, counters):\n",
    "            arrival_time = env.now\n",
    "            queue_sizes = [len(counter.queue) for counter in counters]\n",
    "            chosen_idx = np.argmin(queue_sizes)\n",
    "            queue_lengths[chosen_idx].append(queue_sizes[chosen_idx])\n",
    "\n",
    "            with counters[chosen_idx].request() as req:\n",
    "                yield req\n",
    "                wait_time = env.now - arrival_time\n",
    "                wait_times.append(wait_time)\n",
    "\n",
    "                service_duration = random.expovariate(service_rate)\n",
    "                service_times.append(service_duration)\n",
    "                counter_utilization[chosen_idx] += service_duration\n",
    "                yield env.timeout(service_duration)\n",
    "\n",
    "        def generator(env, arrival_rate, counters):\n",
    "            i = 0\n",
    "            while True:\n",
    "                yield env.timeout(random.expovariate(arrival_rate))\n",
    "                env.process(passenger(env, f'Passenger {i}', counters))\n",
    "                i += 1\n",
    "\n",
    "        env.process(generator(env, arrival_rate, counters))\n",
    "        env.run(until=sim_duration)\n",
    "\n",
    "        results = {\n",
    "            \"max_queue_lengths\": [max(q) if q else 0 for q in queue_lengths],\n",
    "            \"average_service_time\": round(np.mean(service_times), 2),\n",
    "            \"average_wait_time\": round(np.mean(wait_times), 2),\n",
    "            \"counter_utilization\": [(u / sim_duration) * 100 for u in counter_utilization]\n",
    "        }\n",
    "\n",
    "        return jsonify(results)\n",
    "\n",
    "    except Exception as e:\n",
    "        return jsonify({\"error\": str(e)}), 500\n",
    "\n",
    "if __name__ == '__main__':\n",
    "    app.run(debug=True, use_reloader=False)  # Disable reloader for Jupyter compatibility\n"
   ]
  },
  {
   "cell_type": "code",
   "execution_count": 3,
   "id": "6b598fb1",
   "metadata": {},
   "outputs": [
    {
     "ename": "SystemExit",
     "evalue": "1",
     "output_type": "error",
     "traceback": [
      "\u001b[1;31m---------------------------------------------------------------------------\u001b[0m",
      "\u001b[1;31mSystemExit\u001b[0m                                Traceback (most recent call last)",
      "Cell \u001b[1;32mIn[2], line 89\u001b[0m\n\u001b[0;32m     86\u001b[0m     \u001b[38;5;28;01mreturn\u001b[39;00m jsonify(results)\n\u001b[0;32m     88\u001b[0m \u001b[38;5;28;01mif\u001b[39;00m \u001b[38;5;18m__name__\u001b[39m \u001b[38;5;241m==\u001b[39m \u001b[38;5;124m'\u001b[39m\u001b[38;5;124m__main__\u001b[39m\u001b[38;5;124m'\u001b[39m:\n\u001b[1;32m---> 89\u001b[0m     \u001b[43mapp\u001b[49m\u001b[38;5;241;43m.\u001b[39;49m\u001b[43mrun\u001b[49m\u001b[43m(\u001b[49m\u001b[43mdebug\u001b[49m\u001b[38;5;241;43m=\u001b[39;49m\u001b[38;5;28;43;01mTrue\u001b[39;49;00m\u001b[43m)\u001b[49m\n",
      "File \u001b[1;32mc:\\Users\\shash\\AppData\\Local\\Programs\\Python\\Python312\\Lib\\site-packages\\flask\\app.py:662\u001b[0m, in \u001b[0;36mFlask.run\u001b[1;34m(self, host, port, debug, load_dotenv, **options)\u001b[0m\n\u001b[0;32m    659\u001b[0m \u001b[38;5;28;01mfrom\u001b[39;00m\u001b[38;5;250m \u001b[39m\u001b[38;5;21;01mwerkzeug\u001b[39;00m\u001b[38;5;21;01m.\u001b[39;00m\u001b[38;5;21;01mserving\u001b[39;00m\u001b[38;5;250m \u001b[39m\u001b[38;5;28;01mimport\u001b[39;00m run_simple\n\u001b[0;32m    661\u001b[0m \u001b[38;5;28;01mtry\u001b[39;00m:\n\u001b[1;32m--> 662\u001b[0m     \u001b[43mrun_simple\u001b[49m\u001b[43m(\u001b[49m\u001b[43mt\u001b[49m\u001b[38;5;241;43m.\u001b[39;49m\u001b[43mcast\u001b[49m\u001b[43m(\u001b[49m\u001b[38;5;28;43mstr\u001b[39;49m\u001b[43m,\u001b[49m\u001b[43m \u001b[49m\u001b[43mhost\u001b[49m\u001b[43m)\u001b[49m\u001b[43m,\u001b[49m\u001b[43m \u001b[49m\u001b[43mport\u001b[49m\u001b[43m,\u001b[49m\u001b[43m \u001b[49m\u001b[38;5;28;43mself\u001b[39;49m\u001b[43m,\u001b[49m\u001b[43m \u001b[49m\u001b[38;5;241;43m*\u001b[39;49m\u001b[38;5;241;43m*\u001b[39;49m\u001b[43moptions\u001b[49m\u001b[43m)\u001b[49m\n\u001b[0;32m    663\u001b[0m \u001b[38;5;28;01mfinally\u001b[39;00m:\n\u001b[0;32m    664\u001b[0m     \u001b[38;5;66;03m# reset the first request information if the development server\u001b[39;00m\n\u001b[0;32m    665\u001b[0m     \u001b[38;5;66;03m# reset normally.  This makes it possible to restart the server\u001b[39;00m\n\u001b[0;32m    666\u001b[0m     \u001b[38;5;66;03m# without reloader and that stuff from an interactive shell.\u001b[39;00m\n\u001b[0;32m    667\u001b[0m     \u001b[38;5;28mself\u001b[39m\u001b[38;5;241m.\u001b[39m_got_first_request \u001b[38;5;241m=\u001b[39m \u001b[38;5;28;01mFalse\u001b[39;00m\n",
      "File \u001b[1;32mc:\\Users\\shash\\AppData\\Local\\Programs\\Python\\Python312\\Lib\\site-packages\\werkzeug\\serving.py:1115\u001b[0m, in \u001b[0;36mrun_simple\u001b[1;34m(hostname, port, application, use_reloader, use_debugger, use_evalex, extra_files, exclude_patterns, reloader_interval, reloader_type, threaded, processes, request_handler, static_files, passthrough_errors, ssl_context)\u001b[0m\n\u001b[0;32m   1112\u001b[0m \u001b[38;5;28;01mfrom\u001b[39;00m\u001b[38;5;250m \u001b[39m\u001b[38;5;21;01m.\u001b[39;00m\u001b[38;5;21;01m_reloader\u001b[39;00m\u001b[38;5;250m \u001b[39m\u001b[38;5;28;01mimport\u001b[39;00m run_with_reloader\n\u001b[0;32m   1114\u001b[0m \u001b[38;5;28;01mtry\u001b[39;00m:\n\u001b[1;32m-> 1115\u001b[0m     \u001b[43mrun_with_reloader\u001b[49m\u001b[43m(\u001b[49m\n\u001b[0;32m   1116\u001b[0m \u001b[43m        \u001b[49m\u001b[43msrv\u001b[49m\u001b[38;5;241;43m.\u001b[39;49m\u001b[43mserve_forever\u001b[49m\u001b[43m,\u001b[49m\n\u001b[0;32m   1117\u001b[0m \u001b[43m        \u001b[49m\u001b[43mextra_files\u001b[49m\u001b[38;5;241;43m=\u001b[39;49m\u001b[43mextra_files\u001b[49m\u001b[43m,\u001b[49m\n\u001b[0;32m   1118\u001b[0m \u001b[43m        \u001b[49m\u001b[43mexclude_patterns\u001b[49m\u001b[38;5;241;43m=\u001b[39;49m\u001b[43mexclude_patterns\u001b[49m\u001b[43m,\u001b[49m\n\u001b[0;32m   1119\u001b[0m \u001b[43m        \u001b[49m\u001b[43minterval\u001b[49m\u001b[38;5;241;43m=\u001b[39;49m\u001b[43mreloader_interval\u001b[49m\u001b[43m,\u001b[49m\n\u001b[0;32m   1120\u001b[0m \u001b[43m        \u001b[49m\u001b[43mreloader_type\u001b[49m\u001b[38;5;241;43m=\u001b[39;49m\u001b[43mreloader_type\u001b[49m\u001b[43m,\u001b[49m\n\u001b[0;32m   1121\u001b[0m \u001b[43m    \u001b[49m\u001b[43m)\u001b[49m\n\u001b[0;32m   1122\u001b[0m \u001b[38;5;28;01mfinally\u001b[39;00m:\n\u001b[0;32m   1123\u001b[0m     srv\u001b[38;5;241m.\u001b[39mserver_close()\n",
      "File \u001b[1;32mc:\\Users\\shash\\AppData\\Local\\Programs\\Python\\Python312\\Lib\\site-packages\\werkzeug\\_reloader.py:469\u001b[0m, in \u001b[0;36mrun_with_reloader\u001b[1;34m(main_func, extra_files, exclude_patterns, interval, reloader_type)\u001b[0m\n\u001b[0;32m    467\u001b[0m             reloader\u001b[38;5;241m.\u001b[39mrun()\n\u001b[0;32m    468\u001b[0m     \u001b[38;5;28;01melse\u001b[39;00m:\n\u001b[1;32m--> 469\u001b[0m         \u001b[43msys\u001b[49m\u001b[38;5;241;43m.\u001b[39;49m\u001b[43mexit\u001b[49m\u001b[43m(\u001b[49m\u001b[43mreloader\u001b[49m\u001b[38;5;241;43m.\u001b[39;49m\u001b[43mrestart_with_reloader\u001b[49m\u001b[43m(\u001b[49m\u001b[43m)\u001b[49m\u001b[43m)\u001b[49m\n\u001b[0;32m    470\u001b[0m \u001b[38;5;28;01mexcept\u001b[39;00m \u001b[38;5;167;01mKeyboardInterrupt\u001b[39;00m:\n\u001b[0;32m    471\u001b[0m     \u001b[38;5;28;01mpass\u001b[39;00m\n",
      "\u001b[1;31mSystemExit\u001b[0m: 1"
     ]
    }
   ],
   "source": [
    "%tb"
   ]
  }
 ],
 "metadata": {
  "kernelspec": {
   "display_name": "Python 3",
   "language": "python",
   "name": "python3"
  },
  "language_info": {
   "codemirror_mode": {
    "name": "ipython",
    "version": 3
   },
   "file_extension": ".py",
   "mimetype": "text/x-python",
   "name": "python",
   "nbconvert_exporter": "python",
   "pygments_lexer": "ipython3",
   "version": "3.12.7"
  }
 },
 "nbformat": 4,
 "nbformat_minor": 5
}
